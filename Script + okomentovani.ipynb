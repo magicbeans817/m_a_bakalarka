{
 "cells": [
  {
   "cell_type": "markdown",
   "id": "prompt-architect",
   "metadata": {},
   "source": [
    "Tady budu vkladat nejaky svuj bordel a potrebne package"
   ]
  },
  {
   "cell_type": "code",
   "execution_count": 5,
   "id": "yellow-disco",
   "metadata": {},
   "outputs": [],
   "source": [
    "library(readxl) #package na cteni excelu\n",
    "library(dplyr) #muj nejmilovanejsi package"
   ]
  },
  {
   "cell_type": "markdown",
   "id": "amino-billion",
   "metadata": {},
   "source": [
    "# Silový a funkční trénink - stání na jedné noze\n",
    "\n",
    "Nejdříve načtu data a provedu nutné úpravy."
   ]
  },
  {
   "cell_type": "code",
   "execution_count": 16,
   "id": "amateur-devil",
   "metadata": {},
   "outputs": [
    {
     "name": "stderr",
     "output_type": "stream",
     "text": [
      "New names:\n",
      "* `` -> ...1\n",
      "* `` -> ...3\n",
      "* `` -> ...5\n"
     ]
    },
    {
     "name": "stdout",
     "output_type": "stream",
     "text": [
      "Rows: 10\n",
      "Columns: 4\n",
      "$ sil_ldk <chr> \"17\", \"78\", \"85\", \"76\", \"78\", \"85\", \"30\", \"75\", \"73\", \"25\"\n",
      "$ sil_pdk <chr> \"19\", \"47\", \"51\", \"80\", \"80\", \"51\", \"90\", \"52\", \"56\", \"38\"\n",
      "$ fun_ldk <chr> \"65\", \"76\", \"30\", \"90\", \"86\", \"205\", \"165\", \"201\", \"79\", \"37\"\n",
      "$ fun_pdk <chr> \"92\", \"64\", \"90\", \"86\", \"75\", \"194\", \"135\", \"195\", \"92\", \"83\"\n"
     ]
    }
   ],
   "source": [
    "jedna_noha <- read_excel(\"na_jedne_noze.xlsx\") #nactu data\n",
    "\n",
    "#zbavim se sloupce s cislem jednotlivych pozorovani a taky poslednich 3 radku\n",
    "jedna_noha <- jedna_noha[2:(nrow(jedna_noha)),2:ncol(jedna_noha)] \n",
    "\n",
    "colnames(jedna_noha) <- c(\"sil_ldk\",\"sil_pdk\",\"fun_ldk\",\"fun_pdk\") #prejmenuji sloupce\n",
    "jedna_noha %>% glimpse()\n",
    "jedna_noha <- data.frame(lapply(jedna_noha, function(x) as.numeric(as.character(x)))) #vsechny chracters prehodi na numeric"
   ]
  },
  {
   "cell_type": "markdown",
   "id": "pacific-extra",
   "metadata": {},
   "source": [
    "## Dvouvýběrový Wilcoxonův test\n",
    "\n",
    "Jednotlivci byli rozděleni do dvou skupin po sedmi. První skupina prošla Silovým tréninkem, druhá Funkčním tréninkem. Chci ověřit, který ze dvou tréninků je účinnější. U každého jednotlivce jsem změřil, jak dlouho vydrží stát na každé noze, a předpokládám, že tato výdrž perfektně reflektuje účinky tréninku. K porovnání účinnosti tréninků použiji Dvouvýběrový Wilcoxonův test. Vyhodnotím nejdříve účinky tréninků na levé nohy, potom na pravé nohy.\n",
    "\n",
    "Pro první Dvouvýběrový Wilcoxonův test tedy zavádím nulovou hypotézu, že rozdělení výběrů obou tréninků jsou stejná pro levou nohu. Alternativní hypotéza je, že výběry pochází z různých rozdělení. Pro druhý test zavádím nulovou hypotézu, že rozdělení výběrů obou tréninků jsou stejná pro pravou nohu. Alternativní hypotéza je, že výběry pochází z různých rozdělení. Pro oba testy použiji standardní hladinu $\\alpha = 0.05$. Oba testy jsou oboustranné."
   ]
  },
  {
   "cell_type": "code",
   "execution_count": 17,
   "id": "incorporate-jenny",
   "metadata": {},
   "outputs": [
    {
     "name": "stderr",
     "output_type": "stream",
     "text": [
      "Warning message in wilcox.test.default(jedna_noha$sil_ldk, jedna_noha$fun_ldk, alternative = c(\"two.sided\"), :\n",
      "\"cannot compute exact p-value with ties\""
     ]
    },
    {
     "data": {
      "text/plain": [
       "\n",
       "\tWilcoxon rank sum test\n",
       "\n",
       "data:  jedna_noha$sil_ldk and jedna_noha$fun_ldk\n",
       "W = 28, p-value = 0.0958\n",
       "alternative hypothesis: true location shift is not equal to 0\n"
      ]
     },
     "metadata": {},
     "output_type": "display_data"
    },
    {
     "name": "stderr",
     "output_type": "stream",
     "text": [
      "Warning message in wilcox.test.default(jedna_noha$sil_pdk, jedna_noha$fun_pdk, alternative = c(\"two.sided\"), :\n",
      "\"cannot compute exact p-value with ties\""
     ]
    },
    {
     "data": {
      "text/plain": [
       "\n",
       "\tWilcoxon rank sum test\n",
       "\n",
       "data:  jedna_noha$sil_pdk and jedna_noha$fun_pdk\n",
       "W = 8.5, p-value = 0.001679\n",
       "alternative hypothesis: true location shift is not equal to 0\n"
      ]
     },
     "metadata": {},
     "output_type": "display_data"
    }
   ],
   "source": [
    "#test pro levou dolni koncetinu\n",
    "ldk_wt <- wilcox.test(jedna_noha$sil_ldk, jedna_noha$fun_ldk, alternative = c(\"two.sided\"), paired = FALSE, correct = FALSE)\n",
    "ldk_wt\n",
    "\n",
    "#test pro pravou dolni koncetinu\n",
    "pdk_wt <- wilcox.test(jedna_noha$sil_pdk, jedna_noha$fun_pdk, alternative = c(\"two.sided\"), paired = FALSE, correct = FALSE)\n",
    "pdk_wt"
   ]
  },
  {
   "cell_type": "markdown",
   "id": "indirect-catalog",
   "metadata": {},
   "source": [
    "Na hladině $\\alpha = 0.05$ nezamítám v testu pro levé nohy nulovou hypotézu. Tedy nemám dostatek důkazů pro tvrzení, že jeden z tréninků je pro levou nohu účinnější než druhý.\n",
    "\n",
    "Na hladině $\\alpha = 0.05$ zamítám nulovou hypotézu v testu pro pravé nohy, což mě vede k závěru, že výběry pochází z různých rozdělení. Tedy mám dostatek důkazů pro tvrzení, že jeden z testů je účinnější než druhý. \n",
    "\n",
    "\n",
    "\n",
    "Ještě mohu použít jednostranné Dvouvýběrové Wilcoxonovy testy.\n",
    "\n",
    "Znovu aplikuji dva Dvouvýběrové testy, tentokrát však jednostranné. Pro oba dva testy tedy pokládám nulovou hypotézu, že výběr ze Silového tréninku pochází z rozdělení s vyšším nebo rovným mediánem než výběr z Funkčního tréninku. Alternativní hypotéza zní, že výběr ze Silového tréninku pochází z rozdělení s menším mediánem než výběr z Funkčního tréninku. Volím standardní hladinu $\\alpha = 0.05$."
   ]
  },
  {
   "cell_type": "code",
   "execution_count": 18,
   "id": "legal-hampshire",
   "metadata": {},
   "outputs": [
    {
     "name": "stderr",
     "output_type": "stream",
     "text": [
      "Warning message in wilcox.test.default(jedna_noha$sil_ldk, jedna_noha$fun_ldk, alternative = c(\"less\"), :\n",
      "\"cannot compute exact p-value with ties\""
     ]
    },
    {
     "data": {
      "text/plain": [
       "\n",
       "\tWilcoxon rank sum test\n",
       "\n",
       "data:  jedna_noha$sil_ldk and jedna_noha$fun_ldk\n",
       "W = 28, p-value = 0.0479\n",
       "alternative hypothesis: true location shift is less than 0\n"
      ]
     },
     "metadata": {},
     "output_type": "display_data"
    },
    {
     "name": "stderr",
     "output_type": "stream",
     "text": [
      "Warning message in wilcox.test.default(jedna_noha$sil_pdk, jedna_noha$fun_pdk, alternative = c(\"less\"), :\n",
      "\"cannot compute exact p-value with ties\""
     ]
    },
    {
     "data": {
      "text/plain": [
       "\n",
       "\tWilcoxon rank sum test\n",
       "\n",
       "data:  jedna_noha$sil_pdk and jedna_noha$fun_pdk\n",
       "W = 8.5, p-value = 0.0008395\n",
       "alternative hypothesis: true location shift is less than 0\n"
      ]
     },
     "metadata": {},
     "output_type": "display_data"
    }
   ],
   "source": [
    "one_side_ldk <- wilcox.test(jedna_noha$sil_ldk, jedna_noha$fun_ldk,\n",
    "                            alternative = c(\"less\"), paired = FALSE, correct = FALSE)\n",
    "one_side_ldk\n",
    "\n",
    "\n",
    "one_side_pdk <- wilcox.test(jedna_noha$sil_pdk, jedna_noha$fun_pdk, \n",
    "                            alternative = c(\"less\"), paired = FALSE, correct = FALSE)\n",
    "one_side_pdk"
   ]
  },
  {
   "cell_type": "markdown",
   "id": "mounted-forward",
   "metadata": {},
   "source": [
    "V testu pro pravé dolní končetiny vyvracím nulovou hypotézu, tedy docházím k závěru, že Silový trénink je účinnější na (rekonvalscenci? tohle si přepiš pak sama) pravé dolní končetiny než Funkční trénink. \n",
    "\n",
    "V testu pro levé dolní končetiny se mi podařilo vyvrátit nulovou hypotézu, tedy na základě zvolené hladiny a výsledku testu mohu tvrdit, že v případě levé dolní končetiny je silový trénink účinnější než funkční. "
   ]
  },
  {
   "cell_type": "markdown",
   "id": "neutral-affiliation",
   "metadata": {},
   "source": [
    "## Boxplot\n",
    "\n",
    "Mohu jednotlivé výběry graficky znázornit pomocí boxplotů. Výběry levých nohou jsou znázorněny pomocí červených boxplotů, výběry pravých nohou pomocí modrých boxplotů."
   ]
  },
  {
   "cell_type": "code",
   "execution_count": 19,
   "id": "italian-lodge",
   "metadata": {},
   "outputs": [
    {
     "data": {
      "image/png": "[encoded data removed]",
      "text/plain": [
       "Plot with title \"Boxplot\""
      ]
     },
     "metadata": {},
     "output_type": "display_data"
    }
   ],
   "source": [
    "options(repr.plot.width=8, repr.plot.height=5)\n",
    "barvicky <- c(\"red\",\"blue\")\n",
    "popis <- c(\"Silový trénink - LDK\",\"Silový trénink - PDK\",\n",
    "           \"Funkční trénink - LDK\",\"Funkční trénink - PDK\")\n",
    "boxplot(jedna_noha, xlab = \"\", ylab = \"Výdrž (sekundy)\", col = barvicky, names = popis, par(cex.axis=0.7))\n",
    "title(\"Boxplot\")"
   ]
  },
  {
   "cell_type": "code",
   "execution_count": null,
   "id": "similar-nitrogen",
   "metadata": {},
   "outputs": [],
   "source": []
  }
 ],
 "metadata": {
  "kernelspec": {
   "display_name": "R",
   "language": "R",
   "name": "ir"
  },
  "language_info": {
   "codemirror_mode": "r",
   "file_extension": ".r",
   "mimetype": "text/x-r-source",
   "name": "R",
   "pygments_lexer": "r",
   "version": "3.6.1"
  }
 },
 "nbformat": 4,
 "nbformat_minor": 5
}
