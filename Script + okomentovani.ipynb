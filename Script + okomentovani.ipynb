{
 "cells": [
  {
   "cell_type": "markdown",
   "id": "prompt-architect",
   "metadata": {},
   "source": [
    "Tady budu vkladat nejaky svuj bordel a potrebne package"
   ]
  },
  {
   "cell_type": "code",
   "execution_count": 2,
   "id": "yellow-disco",
   "metadata": {},
   "outputs": [
    {
     "name": "stderr",
     "output_type": "stream",
     "text": [
      "Warning message:\n",
      "\"package 'dplyr' was built under R version 3.6.3\"\n",
      "Attaching package: 'dplyr'\n",
      "\n",
      "The following objects are masked from 'package:stats':\n",
      "\n",
      "    filter, lag\n",
      "\n",
      "The following objects are masked from 'package:base':\n",
      "\n",
      "    intersect, setdiff, setequal, union\n",
      "\n"
     ]
    }
   ],
   "source": [
    "library(readxl) #package na cteni excelu\n",
    "library(dplyr) #muj nejmilovanejsi package"
   ]
  },
  {
   "cell_type": "markdown",
   "id": "amino-billion",
   "metadata": {},
   "source": [
    "# Silový a funkční trénink - stání na jedné noze\n",
    "\n",
    "Nejdříve načtu data a provedu nutné úpravy."
   ]
  },
  {
   "cell_type": "code",
   "execution_count": 3,
   "id": "amateur-devil",
   "metadata": {},
   "outputs": [
    {
     "name": "stderr",
     "output_type": "stream",
     "text": [
      "New names:\n",
      "* `` -> ...1\n",
      "* `` -> ...3\n",
      "* `` -> ...5\n"
     ]
    },
    {
     "name": "stdout",
     "output_type": "stream",
     "text": [
      "Rows: 10\n",
      "Columns: 4\n",
      "$ sil_ldk <chr> \"17\", \"78\", \"85\", \"76\", \"78\", \"85\", \"30\", \"75\", \"73\", \"25\"\n",
      "$ sil_pdk <chr> \"19\", \"47\", \"51\", \"80\", \"80\", \"51\", \"90\", \"52\", \"56\", \"38\"\n",
      "$ fun_ldk <chr> \"65\", \"76\", \"30\", \"90\", \"86\", \"205\", \"165\", \"201\", \"79\", \"37\"\n",
      "$ fun_pdk <chr> \"92\", \"64\", \"90\", \"86\", \"75\", \"194\", \"135\", \"195\", \"92\", \"83\"\n"
     ]
    }
   ],
   "source": [
    "jedna_noha <- read_excel(\"na_jedne_noze.xlsx\") #nactu data\n",
    "\n",
    "#zbavim se sloupce s cislem jednotlivych pozorovani a taky poslednich 3 radku\n",
    "jedna_noha <- jedna_noha[2:(nrow(jedna_noha)),2:ncol(jedna_noha)] \n",
    "\n",
    "colnames(jedna_noha) <- c(\"sil_ldk\",\"sil_pdk\",\"fun_ldk\",\"fun_pdk\") #prejmenuji sloupce\n",
    "jedna_noha %>% glimpse()\n",
    "jedna_noha <- data.frame(lapply(jedna_noha, function(x) as.numeric(as.character(x)))) #vsechny chracters prehodi na numeric"
   ]
  },
  {
   "cell_type": "markdown",
   "id": "pacific-extra",
   "metadata": {},
   "source": [
    "## Dvouvýběrový Wilcoxonův test\n",
    "\n",
    "Jednotlivci byli rozděleni do dvou skupin po deseti. První skupina prošla Silovým tréninkem, druhá Funkčním tréninkem. Chci ověřit, který ze dvou tréninků je účinnější. U každého jednotlivce jsem změřil, jak dlouho vydrží stát na každé noze, a předpokládám, že tato výdrž perfektně reflektuje účinky tréninku. K porovnání účinnosti tréninků použiji Dvouvýběrový Wilcoxonův test. Vyhodnotím nejdříve účinky tréninků na levé nohy, potom na pravé nohy.\n",
    "\n",
    "Pro první Dvouvýběrový Wilcoxonův test tedy zavádím nulovou hypotézu, že rozdělení výběrů obou tréninků jsou stejná pro levou nohu. Alternativní hypotéza je, že výběry pochází z různých rozdělení. Pro druhý test zavádím nulovou hypotézu, že rozdělení výběrů obou tréninků jsou stejná pro pravou nohu. Alternativní hypotéza je, že výběry pochází z různých rozdělení. Pro oba testy použiji standardní hladinu $\\alpha = 0.05$. Oba testy jsou oboustranné."
   ]
  },
  {
   "cell_type": "code",
   "execution_count": 4,
   "id": "incorporate-jenny",
   "metadata": {},
   "outputs": [
    {
     "name": "stderr",
     "output_type": "stream",
     "text": [
      "Warning message in wilcox.test.default(jedna_noha$sil_ldk, jedna_noha$fun_ldk, alternative = c(\"two.sided\"), :\n",
      "\"cannot compute exact p-value with ties\""
     ]
    },
    {
     "data": {
      "text/plain": [
       "\n",
       "\tWilcoxon rank sum test\n",
       "\n",
       "data:  jedna_noha$sil_ldk and jedna_noha$fun_ldk\n",
       "W = 28, p-value = 0.0958\n",
       "alternative hypothesis: true location shift is not equal to 0\n"
      ]
     },
     "metadata": {},
     "output_type": "display_data"
    },
    {
     "name": "stderr",
     "output_type": "stream",
     "text": [
      "Warning message in wilcox.test.default(jedna_noha$sil_pdk, jedna_noha$fun_pdk, alternative = c(\"two.sided\"), :\n",
      "\"cannot compute exact p-value with ties\""
     ]
    },
    {
     "data": {
      "text/plain": [
       "\n",
       "\tWilcoxon rank sum test\n",
       "\n",
       "data:  jedna_noha$sil_pdk and jedna_noha$fun_pdk\n",
       "W = 8.5, p-value = 0.001679\n",
       "alternative hypothesis: true location shift is not equal to 0\n"
      ]
     },
     "metadata": {},
     "output_type": "display_data"
    }
   ],
   "source": [
    "#test pro levou dolni koncetinu\n",
    "ldk_wt <- wilcox.test(jedna_noha$sil_ldk, jedna_noha$fun_ldk, alternative = c(\"two.sided\"), paired = FALSE, correct = FALSE)\n",
    "ldk_wt\n",
    "\n",
    "#test pro pravou dolni koncetinu\n",
    "pdk_wt <- wilcox.test(jedna_noha$sil_pdk, jedna_noha$fun_pdk, alternative = c(\"two.sided\"), paired = FALSE, correct = FALSE)\n",
    "pdk_wt"
   ]
  },
  {
   "cell_type": "markdown",
   "id": "indirect-catalog",
   "metadata": {},
   "source": [
    "Na hladině $\\alpha = 0.05$ nezamítám v testu pro levé nohy nulovou hypotézu. Tedy nemám dostatek důkazů pro tvrzení, že jeden z tréninků je pro levou nohu účinnější než druhý.\n",
    "\n",
    "Na hladině $\\alpha = 0.05$ zamítám nulovou hypotézu v testu pro pravé nohy, což mě vede k závěru, že výběry pochází z různých rozdělení. Tedy mám dostatek důkazů pro tvrzení, že jeden z testů je účinnější než druhý. \n",
    "\n",
    "\n",
    "\n",
    "Ještě mohu použít jednostranné Dvouvýběrové Wilcoxonovy testy.\n",
    "\n",
    "Znovu aplikuji dva Dvouvýběrové testy, tentokrát však jednostranné. Pro oba dva testy tedy pokládám nulovou hypotézu, že výběr ze Silového tréninku pochází z rozdělení s vyšším nebo rovným mediánem než výběr z Funkčního tréninku. Alternativní hypotéza zní, že výběr ze Silového tréninku pochází z rozdělení s menším mediánem než výběr z Funkčního tréninku. Volím standardní hladinu $\\alpha = 0.05$."
   ]
  },
  {
   "cell_type": "code",
   "execution_count": 5,
   "id": "legal-hampshire",
   "metadata": {},
   "outputs": [
    {
     "name": "stderr",
     "output_type": "stream",
     "text": [
      "Warning message in wilcox.test.default(jedna_noha$sil_ldk, jedna_noha$fun_ldk, alternative = c(\"less\"), :\n",
      "\"cannot compute exact p-value with ties\""
     ]
    },
    {
     "data": {
      "text/plain": [
       "\n",
       "\tWilcoxon rank sum test\n",
       "\n",
       "data:  jedna_noha$sil_ldk and jedna_noha$fun_ldk\n",
       "W = 28, p-value = 0.0479\n",
       "alternative hypothesis: true location shift is less than 0\n"
      ]
     },
     "metadata": {},
     "output_type": "display_data"
    },
    {
     "name": "stderr",
     "output_type": "stream",
     "text": [
      "Warning message in wilcox.test.default(jedna_noha$sil_pdk, jedna_noha$fun_pdk, alternative = c(\"less\"), :\n",
      "\"cannot compute exact p-value with ties\""
     ]
    },
    {
     "data": {
      "text/plain": [
       "\n",
       "\tWilcoxon rank sum test\n",
       "\n",
       "data:  jedna_noha$sil_pdk and jedna_noha$fun_pdk\n",
       "W = 8.5, p-value = 0.0008395\n",
       "alternative hypothesis: true location shift is less than 0\n"
      ]
     },
     "metadata": {},
     "output_type": "display_data"
    }
   ],
   "source": [
    "one_side_ldk <- wilcox.test(jedna_noha$sil_ldk, jedna_noha$fun_ldk,\n",
    "                            alternative = c(\"less\"), paired = FALSE, correct = FALSE)\n",
    "one_side_ldk\n",
    "\n",
    "\n",
    "one_side_pdk <- wilcox.test(jedna_noha$sil_pdk, jedna_noha$fun_pdk, \n",
    "                            alternative = c(\"less\"), paired = FALSE, correct = FALSE)\n",
    "one_side_pdk"
   ]
  },
  {
   "cell_type": "markdown",
   "id": "mounted-forward",
   "metadata": {},
   "source": [
    "V testu pro pravé dolní končetiny vyvracím nulovou hypotézu, tedy docházím k závěru, že Funkční trénink je účinnější na (rekonvalscenci? tohle si přepiš pak sama) pravé dolní končetiny než Silový trénink. \n",
    "\n",
    "V testu pro levé dolní končetiny se mi podařilo vyvrátit nulovou hypotézu, tedy na základě zvolené hladiny a výsledku testu mohu tvrdit, že v případě levé dolní končetiny je Funkční trénink účinnější než Silový trénink. "
   ]
  },
  {
   "cell_type": "markdown",
   "id": "neutral-affiliation",
   "metadata": {},
   "source": [
    "## Boxplot\n",
    "\n",
    "Mohu jednotlivé výběry graficky znázornit pomocí boxplotů. Výběry levých nohou jsou znázorněny pomocí červených boxplotů, výběry pravých nohou pomocí modrých boxplotů."
   ]
  },
  {
   "cell_type": "code",
   "execution_count": 6,
   "id": "italian-lodge",
   "metadata": {},
   "outputs": [
    {
     "data": {
      "image/png": "[encoded data removed]",
      "text/plain": [
       "Plot with title \"Boxplot\""
      ]
     },
     "metadata": {},
     "output_type": "display_data"
    }
   ],
   "source": [
    "options(repr.plot.width=8, repr.plot.height=5)\n",
    "barvicky <- c(\"red\",\"blue\")\n",
    "popis <- c(\"Silový trénink - LDK\",\"Silový trénink - PDK\",\n",
    "           \"Funkční trénink - LDK\",\"Funkční trénink - PDK\")\n",
    "boxplot(jedna_noha, xlab = \"\", ylab = \"Výdrž (sekundy)\", col = barvicky, names = popis, par(cex.axis=0.7))\n",
    "title(\"Boxplot\")"
   ]
  },
  {
   "cell_type": "markdown",
   "id": "korean-calculator",
   "metadata": {},
   "source": [
    "# Silové a funkční tréninky - dosah nohou\n"
   ]
  },
  {
   "cell_type": "code",
   "execution_count": 7,
   "id": "precious-merit",
   "metadata": {},
   "outputs": [
    {
     "name": "stderr",
     "output_type": "stream",
     "text": [
      "New names:\n",
      "* `` -> ...1\n",
      "* `1. Anterior <U+200B>` -> `1. Anterior <U+200B>...2`\n",
      "* `2. Anteromedial <U+200B>` -> `2. Anteromedial <U+200B>...3`\n",
      "* `3. Media <U+200B>` -> `3. Media <U+200B>...4`\n",
      "* `4. Posteromedial <U+200B>` -> `4. Posteromedial <U+200B>...5`\n",
      "* ...\n",
      "New names:\n",
      "* `` -> ...1\n",
      "* `1. Anterior <U+200B>` -> `1. Anterior <U+200B>...2`\n",
      "* `2. Anteromedial <U+200B>` -> `2. Anteromedial <U+200B>...3`\n",
      "* `3. Media <U+200B>` -> `3. Media <U+200B>...4`\n",
      "* `4. Posteromedial <U+200B>` -> `4. Posteromedial <U+200B>...5`\n",
      "* ...\n"
     ]
    }
   ],
   "source": [
    "sil <- data.frame(read_excel(\"sil_trenink.xlsx\"))\n",
    "jmena <- c(\"anterior\", \"anteromedial\", \"medial\", \"posteromedial\",\"posterior\",\"posterolateral\",\"lateral\",\"anterolateral\")\n",
    "colnames(sil) <- c(\"pohlavi\", jmena,jmena)\n",
    "sil <- sil[,-1]\n",
    "sil <- data.frame(lapply(sil,as.numeric))\n",
    "\n",
    "fun <- data.frame(read_excel(\"fun_trenink.xlsx\"))\n",
    "colnames(fun) <- c(\"pohlavi\", jmena, jmena)\n",
    "fun <- fun[,-1]\n",
    "fun <- data.frame(lapply(fun,as.numeric))\n",
    "\n",
    "sil_leva <- sil[,1:(ncol(sil)/2)]\n",
    "sil_prav <-sil[,9:16]\n",
    "\n",
    "fun_leva <- fun[,1:(ncol(sil)/2)]\n",
    "fun_prav <- fun[,9:16]\n",
    "\n",
    "leve <- cbind(sil_leva, fun_leva)\n",
    "leve_bp <- leve[, c(1,9,2,10,3,11,4,12,5,13,6,14,7,15,8,16)]\n",
    "\n",
    "prave <- cbind(sil_prav, fun_prav)\n",
    "prave_bp <- prave[, c(1,9,2,10,3,11,4,12,5,13,6,14,7,15,8,16)]"
   ]
  },
  {
   "cell_type": "markdown",
   "id": "coordinate-victory",
   "metadata": {},
   "source": [
    "# Boxploty"
   ]
  },
  {
   "cell_type": "code",
   "execution_count": 8,
   "id": "unable-classification",
   "metadata": {},
   "outputs": [
    {
     "data": {
      "image/png": "[encoded data removed]",
      "text/plain": [
       "Plot with title \"Levé nohy\""
      ]
     },
     "metadata": {},
     "output_type": "display_data"
    }
   ],
   "source": [
    "options(repr.plot.width=8, repr.plot.height=5)\n",
    "barvicky <- c(\"blue\",\"yellow\")\n",
    "boxplot(leve_bp, xlab = \"\", ylab = \"Relativní vzdálenost v %\", col = barvicky,  par(cex.axis=0.7))\n",
    "title(\"Levé nohy\")\n",
    "legend(0,140, c(\"Silový trénink\", \"Funkční trénink\"),\n",
    "       col=c(\"blue\", \"yellow\"), lwd=3)"
   ]
  },
  {
   "cell_type": "code",
   "execution_count": 9,
   "id": "solved-incentive",
   "metadata": {},
   "outputs": [
    {
     "data": {
      "image/png": "[encoded data removed]",
      "text/plain": [
       "Plot with title \"Pravé nohy\""
      ]
     },
     "metadata": {},
     "output_type": "display_data"
    }
   ],
   "source": [
    "options(repr.plot.width=8, repr.plot.height=5)\n",
    "barvicky <- c(\"brown\",\"green\")\n",
    "boxplot(prave_bp, xlab = \"\", ylab = \"Relativní vzdálenost v %\", col = barvicky, names = colnames(leve_bp),  par(cex.axis=0.7))\n",
    "title(\"Pravé nohy\")\n",
    "legend(0,130, c(\"Silový trénink\", \"Funkční trénink\"),\n",
    "       col=c(\"brown\", \"green\"), lwd=3)"
   ]
  },
  {
   "cell_type": "markdown",
   "id": "rubber-organizer",
   "metadata": {},
   "source": [
    "# Testování\n",
    "\n",
    "Rozdíly mezi oběma nohama nejdříve otestuji tím způsobem, že sečtu relativní vzdálenosti pro každou nohu každého individuála, a pak porovnám celkové relativní vzdálenosti pro oba tréninky, nejdříve pro levou, a poté pro pravou nohu. Znovu použiji Wilcoxonův Dvouvýběrový test a standardní hladinu $\\alpha = 0.05$."
   ]
  },
  {
   "cell_type": "code",
   "execution_count": 10,
   "id": "frequent-scholarship",
   "metadata": {},
   "outputs": [],
   "source": [
    "sil_leva$soucet <- rowSums(sil_leva)\n",
    "sil_prav$soucet <- rowSums(sil_prav)\n",
    "fun_leva$soucet <- rowSums(fun_leva)\n",
    "fun_prav$soucet <- rowSums(fun_prav)"
   ]
  },
  {
   "cell_type": "code",
   "execution_count": 11,
   "id": "combined-birmingham",
   "metadata": {},
   "outputs": [
    {
     "name": "stderr",
     "output_type": "stream",
     "text": [
      "Warning message in wilcox.test.default(sil_leva$soucet, fun_leva$soucet, alternative = c(\"two.sided\"), :\n",
      "\"cannot compute exact p-value with ties\""
     ]
    },
    {
     "data": {
      "text/plain": [
       "\n",
       "\tWilcoxon rank sum test\n",
       "\n",
       "data:  sil_leva$soucet and fun_leva$soucet\n",
       "W = 40.5, p-value = 0.4725\n",
       "alternative hypothesis: true location shift is not equal to 0\n"
      ]
     },
     "metadata": {},
     "output_type": "display_data"
    },
    {
     "data": {
      "text/plain": [
       "\n",
       "\tWilcoxon rank sum test\n",
       "\n",
       "data:  sil_prav$soucet and fun_prav$soucet\n",
       "W = 53, p-value = 0.8534\n",
       "alternative hypothesis: true location shift is not equal to 0\n"
      ]
     },
     "metadata": {},
     "output_type": "display_data"
    }
   ],
   "source": [
    "wilcox.test(sil_leva$soucet, fun_leva$soucet, alternative = c(\"two.sided\"), paired = FALSE, correct = FALSE)\n",
    "wilcox.test(sil_prav$soucet, fun_prav$soucet, alternative = c(\"two.sided\"), paired = FALSE, correct = FALSE)\n",
    "#sil_leva$soucet\n",
    "#sil_prav$soucet\n",
    "#fun_leva$soucet\n",
    "#fun_prav$soucet"
   ]
  },
  {
   "cell_type": "markdown",
   "id": "functioning-necessity",
   "metadata": {},
   "source": [
    "Ani u jednoho z testů se mi nepodařilo vyvrátit nulovou hypotézu. Tedy nemám dostatečné podklady, abych tvrdil, že se jeden z tréninků svou efektivitou liší od druhého.\n",
    "\n",
    "Data mohu zrelativizovat ještě jednou. Aplikuji lineární transformaci, kdy každá dosažená relativní vzdálenost pro daný cvik bude vydělena průměrnou dosaženou relativní vzdáleností v daném cviku, pro každou nohu a každý test zvlášť. Potom znovu aplikuji Wilcoxonův Dvouvýběrový test se standardní hladinou $\\alpha = 0.05$."
   ]
  },
  {
   "cell_type": "code",
   "execution_count": 12,
   "id": "right-scene",
   "metadata": {},
   "outputs": [],
   "source": [
    "sil_leva <- sil_leva[,-ncol(sil_leva)]\n",
    "sil_prav <- sil_prav[,-ncol(sil_prav)]\n",
    "fun_leva <- fun_leva[,-ncol(fun_leva)]\n",
    "fun_prav <- fun_leva[,-ncol(fun_prav)]\n",
    "\n",
    "for (i in 1:8){\n",
    "    sil_leva[,i] <- sil_leva[,i]/mean(sil_leva[,i])\n",
    "    sil_prav[,i] <- sil_prav[,i]/mean(sil_prav[,i])\n",
    "    fun_leva[,i] <- fun_leva[,i]/mean(fun_leva[,i])\n",
    "    fun_prav[,i] <- fun_prav[,i]/mean(fun_prav[,i])\n",
    "}\n",
    "sil_leva$soucet <- rowSums(sil_leva)\n",
    "sil_prav$soucet <- rowSums(sil_prav)\n",
    "fun_leva$soucet <- rowSums(fun_leva)\n",
    "fun_prav$soucet <- rowSums(fun_prav)\n"
   ]
  },
  {
   "cell_type": "code",
   "execution_count": 13,
   "id": "scientific-digit",
   "metadata": {},
   "outputs": [
    {
     "data": {
      "text/plain": [
       "\n",
       "\tWilcoxon rank sum test\n",
       "\n",
       "data:  sil_leva$soucet and fun_leva$soucet\n",
       "W = 56, p-value = 0.6842\n",
       "alternative hypothesis: true location shift is not equal to 0\n"
      ]
     },
     "metadata": {},
     "output_type": "display_data"
    },
    {
     "data": {
      "text/plain": [
       "\n",
       "\tWilcoxon rank sum test\n",
       "\n",
       "data:  sil_prav$soucet and fun_prav$soucet\n",
       "W = 61, p-value = 0.4359\n",
       "alternative hypothesis: true location shift is not equal to 0\n"
      ]
     },
     "metadata": {},
     "output_type": "display_data"
    }
   ],
   "source": [
    "wilcox.test(sil_leva$soucet, fun_leva$soucet, alternative = c(\"two.sided\"), paired = FALSE, correct = FALSE)\n",
    "wilcox.test(sil_prav$soucet, fun_prav$soucet, alternative = c(\"two.sided\"), paired = FALSE, correct = FALSE)\n",
    "#sil_leva$soucet\n",
    "#sil_prav$soucet\n",
    "#fun_leva$soucet\n",
    "#fun_prav$soucet"
   ]
  },
  {
   "cell_type": "markdown",
   "id": "altered-wages",
   "metadata": {},
   "source": [
    "Ani u jednoho z testů se mi nepodařilo vyvrátit nulovou hypotézu. Tedy nemám dostatečné podklady, abych tvrdil, že se jeden z tréninků svou efektivitou liší od druhého.\n",
    "\n",
    "## Pády\n",
    "\n",
    "Nyní zhodnotím, která skupina měla více tendenci padat. Pro každého jednotlivce zprůměruji jeho počet pádů. Podívám se na data:"
   ]
  },
  {
   "cell_type": "code",
   "execution_count": 14,
   "id": "passing-planning",
   "metadata": {},
   "outputs": [
    {
     "data": {
      "text/html": [
       "<table>\n",
       "<thead><tr><th scope=col>sil</th><th scope=col>fun</th></tr></thead>\n",
       "<tbody>\n",
       "\t<tr><td>3.3333333</td><td>2.6666667</td></tr>\n",
       "\t<tr><td>1.3333333</td><td>1.0000000</td></tr>\n",
       "\t<tr><td>2.6666667</td><td>0.3333333</td></tr>\n",
       "\t<tr><td>2.3333333</td><td>0.3333333</td></tr>\n",
       "\t<tr><td>1.0000000</td><td>0.3333333</td></tr>\n",
       "\t<tr><td>0.6666667</td><td>0.0000000</td></tr>\n",
       "\t<tr><td>0.3333333</td><td>0.0000000</td></tr>\n",
       "\t<tr><td>2.6666667</td><td>0.3333333</td></tr>\n",
       "\t<tr><td>0.3333333</td><td>0.3333333</td></tr>\n",
       "\t<tr><td>0.6666667</td><td>0.6666667</td></tr>\n",
       "</tbody>\n",
       "</table>\n"
      ],
      "text/latex": [
       "\\begin{tabular}{r|ll}\n",
       " sil & fun\\\\\n",
       "\\hline\n",
       "\t 3.3333333 & 2.6666667\\\\\n",
       "\t 1.3333333 & 1.0000000\\\\\n",
       "\t 2.6666667 & 0.3333333\\\\\n",
       "\t 2.3333333 & 0.3333333\\\\\n",
       "\t 1.0000000 & 0.3333333\\\\\n",
       "\t 0.6666667 & 0.0000000\\\\\n",
       "\t 0.3333333 & 0.0000000\\\\\n",
       "\t 2.6666667 & 0.3333333\\\\\n",
       "\t 0.3333333 & 0.3333333\\\\\n",
       "\t 0.6666667 & 0.6666667\\\\\n",
       "\\end{tabular}\n"
      ],
      "text/markdown": [
       "\n",
       "| sil | fun |\n",
       "|---|---|\n",
       "| 3.3333333 | 2.6666667 |\n",
       "| 1.3333333 | 1.0000000 |\n",
       "| 2.6666667 | 0.3333333 |\n",
       "| 2.3333333 | 0.3333333 |\n",
       "| 1.0000000 | 0.3333333 |\n",
       "| 0.6666667 | 0.0000000 |\n",
       "| 0.3333333 | 0.0000000 |\n",
       "| 2.6666667 | 0.3333333 |\n",
       "| 0.3333333 | 0.3333333 |\n",
       "| 0.6666667 | 0.6666667 |\n",
       "\n"
      ],
      "text/plain": [
       "   sil       fun      \n",
       "1  3.3333333 2.6666667\n",
       "2  1.3333333 1.0000000\n",
       "3  2.6666667 0.3333333\n",
       "4  2.3333333 0.3333333\n",
       "5  1.0000000 0.3333333\n",
       "6  0.6666667 0.0000000\n",
       "7  0.3333333 0.0000000\n",
       "8  2.6666667 0.3333333\n",
       "9  0.3333333 0.3333333\n",
       "10 0.6666667 0.6666667"
      ]
     },
     "metadata": {},
     "output_type": "display_data"
    }
   ],
   "source": [
    "pady <- data.frame(read_excel(\"pady.xlsx\")) #celkove soucty padu pro kazdeho individuala\n",
    "pady <- pady /3 # chci prumery - vydelim trojkou (pocet padu)\n",
    "pady #podivam se na data"
   ]
  },
  {
   "cell_type": "markdown",
   "id": "logical-dealing",
   "metadata": {},
   "source": [
    "Je vidět, že skupina procházející funkčním tréninkem padala méně nebo stejně než skupina procházející silovým tréninkem. Aplikuji tedy jednostranný Dvouvýběrový Wilcoxonův test a jednostranný Dvouvýběrový t-test. Pokládám nulovou hypotézu, že skupina procházející funkčním tréninkem padala více nebo stejně než druhá skupina. Použiji hladinu $\\alpha = 0.05$."
   ]
  },
  {
   "cell_type": "code",
   "execution_count": 15,
   "id": "geological-richards",
   "metadata": {},
   "outputs": [
    {
     "name": "stderr",
     "output_type": "stream",
     "text": [
      "Warning message in wilcox.test.default(pady$fun, pady$sil, alternative = c(\"less\"), :\n",
      "\"cannot compute exact p-value with ties\""
     ]
    },
    {
     "data": {
      "text/plain": [
       "\n",
       "\tWilcoxon rank sum test\n",
       "\n",
       "data:  pady$fun and pady$sil\n",
       "W = 20.5, p-value = 0.01108\n",
       "alternative hypothesis: true location shift is less than 0\n"
      ]
     },
     "metadata": {},
     "output_type": "display_data"
    },
    {
     "data": {
      "text/plain": [
       "\n",
       "\tWelch Two Sample t-test\n",
       "\n",
       "data:  pady$fun and pady$sil\n",
       "t = -2.1689, df = 16.148, p-value = 0.02268\n",
       "alternative hypothesis: true difference in means is less than 0\n",
       "95 percent confidence interval:\n",
       "       -Inf -0.1824465\n",
       "sample estimates:\n",
       "mean of x mean of y \n",
       " 0.600000  1.533333 \n"
      ]
     },
     "metadata": {},
     "output_type": "display_data"
    }
   ],
   "source": [
    "wilcox.test(pady$fun, pady$sil, alternative = c(\"less\"), paired = FALSE, correct = FALSE)\n",
    "t.test(pady$fun, pady$sil, alternative = c(\"less\"), paired = FALSE, correct = FALSE, var.equal = FALSE)"
   ]
  },
  {
   "cell_type": "markdown",
   "id": "damaged-effectiveness",
   "metadata": {},
   "source": [
    "Oba dva testy zamítají nulovou hypotézu, tedy docházím k závěru, že skupina procházející funkčním tréninkem padale méně než skupina procházející funkčním tréninkem. \n",
    "\n",
    "### Vizualizace"
   ]
  },
  {
   "cell_type": "code",
   "execution_count": 16,
   "id": "reverse-ribbon",
   "metadata": {},
   "outputs": [
    {
     "data": {
      "image/png": "[encoded data removed]",
      "text/plain": [
       "Plot with title \"Pády - boxplot\""
      ]
     },
     "metadata": {},
     "output_type": "display_data"
    }
   ],
   "source": [
    "options(repr.plot.width=8, repr.plot.height=5)\n",
    "barvicky <- c(\"grey\",\"blue\")\n",
    "popis <- c(\"Silový trénink\",\"Funkční trénink\")\n",
    "boxplot(pady, xlab = \"\", ylab = \"Počet pádů\", col = barvicky, names = popis, par(cex.axis=0.7))\n",
    "title(\"Pády - boxplot\")"
   ]
  },
  {
   "cell_type": "code",
   "execution_count": 17,
   "id": "extensive-heading",
   "metadata": {},
   "outputs": [
    {
     "data": {
      "image/png": "[encoded data removed]",
      "text/plain": [
       "Plot with title \"Histogram pro skupiny se Silovým a Funkčním tréninkem\""
      ]
     },
     "metadata": {},
     "output_type": "display_data"
    }
   ],
   "source": [
    "#breaks\n",
    "posloupnost <- pretty(0:4, n = 4) # Make a neat vector for the breakpoints\n",
    "\n",
    "#barvicky\n",
    "modra <- rgb(173,216,230, max = 255, alpha = 80, names = \"lt.blue\")\n",
    "ruzova <- rgb(255,192,203, max = 255, alpha = 80, names = \"lt.pink\")\n",
    "\n",
    "#histogramy\n",
    "hist_sil <- hist(pady$sil, breaks = posloupnost, plot = 0)\n",
    "hist_fun <- hist(pady$fun, breaks = posloupnost, plot = 0)\n",
    "plot(hist_sil, freq = TRUE, xlim = c(0,4), ylim = c(0,10),\n",
    "     main = \"Histogram pro skupiny se Silovým a Funkčním tréninkem\",\n",
    "     xlab = \"Průměrný počet pádů jednotlivce\", ylab = \"Frekvence\", col = modra)\n",
    "plot(hist_fun, freq = TRUE, xlim = c(0,4), ylim = c(0,2), col = ruzova, add = TRUE)\n",
    "legend(\"topright\", legend = c(\"Silový trénink\",\"Funkční trénink\"), col = c(modra, ruzova), lwd = 10)"
   ]
  }
 ],
 "metadata": {
  "kernelspec": {
   "display_name": "R",
   "language": "R",
   "name": "ir"
  },
  "language_info": {
   "codemirror_mode": "r",
   "file_extension": ".r",
   "mimetype": "text/x-r-source",
   "name": "R",
   "pygments_lexer": "r",
   "version": "3.6.1"
  }
 },
 "nbformat": 4,
 "nbformat_minor": 5
}
