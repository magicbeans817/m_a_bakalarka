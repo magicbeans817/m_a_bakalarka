{
 "cells": [
  {
   "cell_type": "markdown",
   "id": "suburban-quality",
   "metadata": {},
   "source": []
  },
  {
   "cell_type": "code",
   "execution_count": 19,
   "id": "refined-quarterly",
   "metadata": {},
   "outputs": [
    {
     "name": "stderr",
     "output_type": "stream",
     "text": [
      "Warning message:\n",
      "\"package 'dplyr' was built under R version 3.6.3\"\n",
      "Attaching package: 'dplyr'\n",
      "\n",
      "The following objects are masked from 'package:stats':\n",
      "\n",
      "    filter, lag\n",
      "\n",
      "The following objects are masked from 'package:base':\n",
      "\n",
      "    intersect, setdiff, setequal, union\n",
      "\n"
     ]
    }
   ],
   "source": [
    "library(readxl) #package na cteni excelu\n",
    "library(dplyr) #muj nejmilovanejsi package"
   ]
  },
  {
   "cell_type": "markdown",
   "id": "constant-basin",
   "metadata": {},
   "source": [
    "# Silový a funkční trénink - stání na jedné noze\n",
    "\n"
   ]
  },
  {
   "cell_type": "code",
   "execution_count": 52,
   "id": "necessary-representative",
   "metadata": {},
   "outputs": [
    {
     "name": "stderr",
     "output_type": "stream",
     "text": [
      "New names:\n",
      "* `` -> ...1\n",
      "* `` -> ...3\n",
      "* `` -> ...5\n"
     ]
    },
    {
     "name": "stdout",
     "output_type": "stream",
     "text": [
      "Rows: 7\n",
      "Columns: 4\n",
      "$ sil_ldk <chr> \"17\", \"78\", \"85\", \"76\", \"78\", \"85\", \"30\"\n",
      "$ sil_pdk <chr> \"19\", \"47\", \"51\", \"80\", \"80\", \"51\", \"90\"\n",
      "$ fun_ldk <chr> \"65\", \"76\", \"30\", \"90\", \"86\", \"205\", \"165\"\n",
      "$ fun_pdk <chr> \"92\", \"64\", \"90\", \"86\", \"75\", \"194\", \"135\"\n"
     ]
    }
   ],
   "source": [
    "jedna_noha <- read_excel(\"na_jedne_noze.xlsx\") #nactu data\n",
    "\n",
    "#zbavim se sloupce s cislem jednotlivych pozorovani a taky poslednich 3 radku\n",
    "jedna_noha <- jedna_noha[2:(nrow(jedna_noha)-3),2:ncol(jedna_noha)] \n",
    "\n",
    "colnames(jedna_noha) <- c(\"sil_ldk\",\"sil_pdk\",\"fun_ldk\",\"fun_pdk\") #prejmenuji sloupce\n",
    "jedna_noha %>% glimpse()\n",
    "jedna_noha <- data.frame(lapply(jedna_noha, function(x) as.numeric(as.character(x)))) #vsechny chracters prehodi na numeric"
   ]
  },
  {
   "cell_type": "markdown",
   "id": "radical-wyoming",
   "metadata": {},
   "source": [
    "Jednotlivci byli rozděleni do dvou skupin po sedmi. První skupina prošla Silovým tréninkem, druhá Funkčním tréninkem. Chci ověřit, který ze dvou tréninků je účinnější. U každého jednotlivce jsem změřil, jak dlouho vydrží stát na každé noze, a předpokládám, že tato výdrž perfektně reflektuje účinky tréninku. K porovnání účinnosti tréninků použiji Dvouvýběrový Wilcoxonův test"
   ]
  },
  {
   "cell_type": "code",
   "execution_count": null,
   "id": "paperback-guitar",
   "metadata": {},
   "outputs": [],
   "source": []
  },
  {
   "cell_type": "code",
   "execution_count": 30,
   "id": "cooperative-seminar",
   "metadata": {},
   "outputs": [
    {
     "data": {
      "text/html": [
       "<table>\n",
       "<thead><tr><th scope=col>sil_ldk</th><th scope=col>sil_pdk</th><th scope=col>fun_ldk</th><th scope=col>fun_pdk</th></tr></thead>\n",
       "<tbody>\n",
       "\t<tr><td>17 </td><td>19 </td><td>65 </td><td>92 </td></tr>\n",
       "\t<tr><td>78 </td><td>47 </td><td>76 </td><td>64 </td></tr>\n",
       "\t<tr><td>85 </td><td>51 </td><td>30 </td><td>90 </td></tr>\n",
       "\t<tr><td>76 </td><td>80 </td><td>90 </td><td>86 </td></tr>\n",
       "\t<tr><td>78 </td><td>80 </td><td>86 </td><td>75 </td></tr>\n",
       "\t<tr><td>85 </td><td>51 </td><td>205</td><td>194</td></tr>\n",
       "\t<tr><td>30 </td><td>90 </td><td>165</td><td>135</td></tr>\n",
       "</tbody>\n",
       "</table>\n"
      ],
      "text/latex": [
       "\\begin{tabular}{r|llll}\n",
       " sil\\_ldk & sil\\_pdk & fun\\_ldk & fun\\_pdk\\\\\n",
       "\\hline\n",
       "\t 17  & 19  & 65  & 92 \\\\\n",
       "\t 78  & 47  & 76  & 64 \\\\\n",
       "\t 85  & 51  & 30  & 90 \\\\\n",
       "\t 76  & 80  & 90  & 86 \\\\\n",
       "\t 78  & 80  & 86  & 75 \\\\\n",
       "\t 85  & 51  & 205 & 194\\\\\n",
       "\t 30  & 90  & 165 & 135\\\\\n",
       "\\end{tabular}\n"
      ],
      "text/markdown": [
       "\n",
       "| sil_ldk | sil_pdk | fun_ldk | fun_pdk |\n",
       "|---|---|---|---|\n",
       "| 17  | 19  | 65  | 92  |\n",
       "| 78  | 47  | 76  | 64  |\n",
       "| 85  | 51  | 30  | 90  |\n",
       "| 76  | 80  | 90  | 86  |\n",
       "| 78  | 80  | 86  | 75  |\n",
       "| 85  | 51  | 205 | 194 |\n",
       "| 30  | 90  | 165 | 135 |\n",
       "\n"
      ],
      "text/plain": [
       "  sil_ldk sil_pdk fun_ldk fun_pdk\n",
       "1 17      19      65      92     \n",
       "2 78      47      76      64     \n",
       "3 85      51      30      90     \n",
       "4 76      80      90      86     \n",
       "5 78      80      86      75     \n",
       "6 85      51      205     194    \n",
       "7 30      90      165     135    "
      ]
     },
     "metadata": {},
     "output_type": "display_data"
    }
   ],
   "source": [
    "jedna_noha"
   ]
  }
 ],
 "metadata": {
  "kernelspec": {
   "display_name": "R",
   "language": "R",
   "name": "ir"
  },
  "language_info": {
   "codemirror_mode": "r",
   "file_extension": ".r",
   "mimetype": "text/x-r-source",
   "name": "R",
   "pygments_lexer": "r",
   "version": "3.6.1"
  }
 },
 "nbformat": 4,
 "nbformat_minor": 5
}
