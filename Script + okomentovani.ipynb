{
 "cells": [
  {
   "cell_type": "markdown",
   "id": "hollow-listening",
   "metadata": {},
   "source": [
    "Tady budu vkladat nejaky svuj bordel a potrebne package"
   ]
  },
  {
   "cell_type": "code",
   "execution_count": 19,
   "id": "breathing-chess",
   "metadata": {},
   "outputs": [
    {
     "name": "stderr",
     "output_type": "stream",
     "text": [
      "Warning message:\n",
      "\"package 'dplyr' was built under R version 3.6.3\"\n",
      "Attaching package: 'dplyr'\n",
      "\n",
      "The following objects are masked from 'package:stats':\n",
      "\n",
      "    filter, lag\n",
      "\n",
      "The following objects are masked from 'package:base':\n",
      "\n",
      "    intersect, setdiff, setequal, union\n",
      "\n"
     ]
    }
   ],
   "source": [
    "library(readxl) #package na cteni excelu\n",
    "library(dplyr) #muj nejmilovanejsi package"
   ]
  },
  {
   "cell_type": "markdown",
   "id": "devoted-evanescence",
   "metadata": {},
   "source": [
    "# Silový a funkční trénink - stání na jedné noze\n",
    "\n",
    "Nejdříve načtu data a provedu nutné úpravy."
   ]
  },
  {
   "cell_type": "code",
   "execution_count": 52,
   "id": "vulnerable-happiness",
   "metadata": {},
   "outputs": [
    {
     "name": "stderr",
     "output_type": "stream",
     "text": [
      "New names:\n",
      "* `` -> ...1\n",
      "* `` -> ...3\n",
      "* `` -> ...5\n"
     ]
    },
    {
     "name": "stdout",
     "output_type": "stream",
     "text": [
      "Rows: 7\n",
      "Columns: 4\n",
      "$ sil_ldk <chr> \"17\", \"78\", \"85\", \"76\", \"78\", \"85\", \"30\"\n",
      "$ sil_pdk <chr> \"19\", \"47\", \"51\", \"80\", \"80\", \"51\", \"90\"\n",
      "$ fun_ldk <chr> \"65\", \"76\", \"30\", \"90\", \"86\", \"205\", \"165\"\n",
      "$ fun_pdk <chr> \"92\", \"64\", \"90\", \"86\", \"75\", \"194\", \"135\"\n"
     ]
    }
   ],
   "source": [
    "jedna_noha <- read_excel(\"na_jedne_noze.xlsx\") #nactu data\n",
    "\n",
    "#zbavim se sloupce s cislem jednotlivych pozorovani a taky poslednich 3 radku\n",
    "jedna_noha <- jedna_noha[2:(nrow(jedna_noha)-3),2:ncol(jedna_noha)] \n",
    "\n",
    "colnames(jedna_noha) <- c(\"sil_ldk\",\"sil_pdk\",\"fun_ldk\",\"fun_pdk\") #prejmenuji sloupce\n",
    "jedna_noha %>% glimpse()\n",
    "jedna_noha <- data.frame(lapply(jedna_noha, function(x) as.numeric(as.character(x)))) #vsechny chracters prehodi na numeric"
   ]
  },
  {
   "cell_type": "markdown",
   "id": "sitting-generator",
   "metadata": {},
   "source": [
    "## Dvouvýběrový Wilcoxonův test\n",
    "\n",
    "Jednotlivci byli rozděleni do dvou skupin po sedmi. První skupina prošla Silovým tréninkem, druhá Funkčním tréninkem. Chci ověřit, který ze dvou tréninků je účinnější. U každého jednotlivce jsem změřil, jak dlouho vydrží stát na každé noze, a předpokládám, že tato výdrž perfektně reflektuje účinky tréninku. K porovnání účinnosti tréninků použiji Dvouvýběrový Wilcoxonův test. Vyhodnotím nejdříve účinky tréninků na levé nohy, potom na pravé nohy.\n",
    "\n",
    "Pro první Dvouvýběrový Wilcoxonův test tedy zavádím nulovou hypotézu, že rozdělení výběrů obou tréninků jsou stejná pro levou nohu. Alternativní hypotéza je, že výběry pochází z různých rozdělení. Pro druhý test zavádím nulovou hypotézu, že rozdělení výběrů obou tréninků jsou stejná pro pravou nohu. Alternativní hypotéza je, že výběry pochází z různých rozdělení. Pro oba testy použiji standardní hladinu $\\alpha = 0.05$. Oba testy jsou oboustranné."
   ]
  },
  {
   "cell_type": "code",
   "execution_count": 61,
   "id": "embedded-price",
   "metadata": {},
   "outputs": [
    {
     "name": "stderr",
     "output_type": "stream",
     "text": [
      "Warning message in wilcox.test.default(jedna_noha$sil_ldk, jedna_noha$fun_ldk, alternative = c(\"two.sided\"), :\n",
      "\"cannot compute exact p-value with ties\""
     ]
    },
    {
     "data": {
      "text/plain": [
       "\n",
       "\tWilcoxon rank sum test\n",
       "\n",
       "data:  jedna_noha$sil_ldk and jedna_noha$fun_ldk\n",
       "W = 15, p-value = 0.2228\n",
       "alternative hypothesis: true location shift is not equal to 0\n"
      ]
     },
     "metadata": {},
     "output_type": "display_data"
    },
    {
     "name": "stderr",
     "output_type": "stream",
     "text": [
      "Warning message in wilcox.test.default(jedna_noha$sil_pdk, jedna_noha$fun_pdk, alternative = c(\"two.sided\"), :\n",
      "\"cannot compute exact p-value with ties\""
     ]
    },
    {
     "data": {
      "text/plain": [
       "\n",
       "\tWilcoxon rank sum test\n",
       "\n",
       "data:  jedna_noha$sil_pdk and jedna_noha$fun_pdk\n",
       "W = 7.5, p-value = 0.0293\n",
       "alternative hypothesis: true location shift is not equal to 0\n"
      ]
     },
     "metadata": {},
     "output_type": "display_data"
    }
   ],
   "source": [
    "#test pro levou dolni koncetinu\n",
    "ldk_wt <- wilcox.test(jedna_noha$sil_ldk, jedna_noha$fun_ldk, alternative = c(\"two.sided\"), paired = FALSE, correct = FALSE)\n",
    "ldk_wt\n",
    "\n",
    "#test pro pravou dolni koncetinu\n",
    "pdk_wt <- wilcox.test(jedna_noha$sil_pdk, jedna_noha$fun_pdk, alternative = c(\"two.sided\"), paired = FALSE, correct = FALSE)\n",
    "pdk_wt"
   ]
  },
  {
   "cell_type": "markdown",
   "id": "textile-liberty",
   "metadata": {},
   "source": [
    "Na hladině $\\alpha = 0.05$ nezamítám v testu pro levé nohy nulovou hypotézu. Tedy nemám dostatek důkazů pro tvrzení, že jeden z tréninků je pro levou nohu účinnější než druhý.\n",
    "\n",
    "Na hladině $\\alpha = 0.05$ zamítám nulovou hypotézu v testu pro pravé nohy, což mě vede k závěru, že výběry pochází z různých rozdělení. Tedy mám dostatek důkazů pro tvrzení, že jeden z testů je účinnější než druhý. \n",
    "\n",
    "\n",
    "\n",
    "Ještě mohu použít jednostranné Dvouvýběrové Wilcoxonovy testy.\n",
    "Tím se kdyžtak budu zabývat později, nemůžu tam přijít na jednu věc"
   ]
  },
  {
   "cell_type": "code",
   "execution_count": 66,
   "id": "impressive-drove",
   "metadata": {},
   "outputs": [
    {
     "name": "stderr",
     "output_type": "stream",
     "text": [
      "Warning message in wilcox.test.default(jedna_noha$sil_ldk, jedna_noha$fun_ldk, alternative = c(\"less\"), :\n",
      "\"cannot compute exact p-value with ties\""
     ]
    },
    {
     "data": {
      "text/plain": [
       "\n",
       "\tWilcoxon rank sum test\n",
       "\n",
       "data:  jedna_noha$sil_ldk and jedna_noha$fun_ldk\n",
       "W = 15, p-value = 0.1114\n",
       "alternative hypothesis: true location shift is less than 0\n"
      ]
     },
     "metadata": {},
     "output_type": "display_data"
    },
    {
     "name": "stderr",
     "output_type": "stream",
     "text": [
      "Warning message in wilcox.test.default(jedna_noha$sil_pdk, jedna_noha$fun_pdk, alternative = c(\"less\"), :\n",
      "\"cannot compute exact p-value with ties\""
     ]
    },
    {
     "data": {
      "text/plain": [
       "\n",
       "\tWilcoxon rank sum test\n",
       "\n",
       "data:  jedna_noha$sil_pdk and jedna_noha$fun_pdk\n",
       "W = 7.5, p-value = 0.01465\n",
       "alternative hypothesis: true location shift is less than 0\n"
      ]
     },
     "metadata": {},
     "output_type": "display_data"
    }
   ],
   "source": [
    "one_side_ldk <- wilcox.test(jedna_noha$sil_ldk, jedna_noha$fun_ldk,\n",
    "                            alternative = c(\"less\"), paired = FALSE, correct = FALSE)\n",
    "one_side_ldk\n",
    "\n",
    "\n",
    "one_side_pdk <- wilcox.test(jedna_noha$sil_pdk, jedna_noha$fun_pdk, \n",
    "                            alternative = c(\"less\"), paired = FALSE, correct = FALSE)\n",
    "one_side_pdk"
   ]
  },
  {
   "cell_type": "markdown",
   "id": "seasonal-tuesday",
   "metadata": {},
   "source": [
    "## Boxplot\n",
    "\n",
    "Mohu jednotlivé výběry graficky znázornit pomocí boxplotů. Výběry levých nohou jsou znázorněny pomocí červených boxplotů, výběry pravých nohou pomocí modrých boxplotů."
   ]
  },
  {
   "cell_type": "code",
   "execution_count": 67,
   "id": "surrounded-mississippi",
   "metadata": {},
   "outputs": [
    {
     "data": {
      "image/png": "[encoded data removed]",
      "text/plain": [
       "plot without title"
      ]
     },
     "metadata": {},
     "output_type": "display_data"
    }
   ],
   "source": [
    "options(repr.plot.width=8, repr.plot.height=6)\n",
    "barvicky <- c(\"red\",\"blue\")\n",
    "popis <- c(\"Silový trénink - levá dolní končetina\",\"Silový trénink - pravá dolní končetina\",\n",
    "           \"Silový trénink - levá dolní končetina\",\"Funkční trénink - pravá dolní končetina\")\n",
    "boxplot(jedna_noha, xlab = \"Phsbj\", ylab = \"fml\", col = barvicky, names = popis, par(cex.axis=0.7))\n",
    "title(\"Boxplot\")"
   ]
  },
  {
   "cell_type": "code",
   "execution_count": 62,
   "id": "silent-billion",
   "metadata": {},
   "outputs": [],
   "source": [
    "?wilcox.test()"
   ]
  },
  {
   "cell_type": "markdown",
   "id": "patient-cosmetic",
   "metadata": {},
   "source": [
    "Při pohledu na data se zdá, že účinnost Silového tréninku byla vyšší než účinnost Funkčního tréninku pro obě nohy (tj. výdrže u Silového tréninku se zdají spíše nižší než výdrže u Funkčního tréninku). "
   ]
  }
 ],
 "metadata": {
  "kernelspec": {
   "display_name": "R",
   "language": "R",
   "name": "ir"
  },
  "language_info": {
   "codemirror_mode": "r",
   "file_extension": ".r",
   "mimetype": "text/x-r-source",
   "name": "R",
   "pygments_lexer": "r",
   "version": "3.6.1"
  }
 },
 "nbformat": 4,
 "nbformat_minor": 5
}
